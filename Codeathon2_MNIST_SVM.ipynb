{
 "cells": [
  {
   "cell_type": "markdown",
   "metadata": {},
   "source": [
    "# 1.) Define the project\n",
    "-------------------------\n",
    "\n",
    "In this notebook, I will be training several different classifiers to analyze handwriting, using the MNIST dataset. The challenge here is to keep the time required to train the classifiers low, as it could easily take a great deal of time. For each classifier, I will devote four cells to tuning its hyperparameters. After each classifier's hyperparameters have been tuned, I will combine these models into one voting classifier, with the hopes of performing better than each single classifier.\n",
    "\n",
    "The three classifiers I will be using are a SGD Classifier and SVM classifiers with both \"poly\" and \"rbf\" kernels. The classification problem here is quite complicated, so we demand powerful algorithms to solve them.\n",
    "\n",
    "The layout of the notebook is as follows. In Section (2), I will download the dataset and briefly look at the data to get a general understanding of it before I begin analysis. In Section (3), I will train my three classifiers and tune their hyperparameters. For each classifier, I will first sweep out a large swath of parameter space coarsely, then sweep more finely based on the results of the coarse hyperparameter tuning. The fine hyperparameter tuning will provide the best model of its type, and this will be the model I ultimately use on the testing data. For each set of hyperparameters, I will employ 3-fold cross-validation. In Section (4), I will train the voting classifier, using hard-voting. In Section (5), I will predict on the testing data, and I will analyze the performance of my model(s)."
   ]
  },
  {
   "cell_type": "markdown",
   "metadata": {},
   "source": [
    "# 2.) Download / inspect the data\n",
    "------------------------------\n",
    "\n",
    "First, I fetch the data from sklearn's datasets. This takes a bit of time because the dataset is so large. Let us look at the shape of the data, as well as a few entries."
   ]
  },
  {
   "cell_type": "code",
   "execution_count": 1,
   "metadata": {},
   "outputs": [],
   "source": [
    "import time\n",
    "import numpy as np"
   ]
  },
  {
   "cell_type": "code",
   "execution_count": 2,
   "metadata": {},
   "outputs": [
    {
     "data": {
      "text/plain": [
       "((70000, 784), (70000,))"
      ]
     },
     "execution_count": 2,
     "metadata": {},
     "output_type": "execute_result"
    }
   ],
   "source": [
    "from sklearn import datasets\n",
    "X, y = datasets.fetch_openml('mnist_784', return_X_y=True)\n",
    "X.shape, y.shape"
   ]
  },
  {
   "cell_type": "code",
   "execution_count": 3,
   "metadata": {},
   "outputs": [
    {
     "name": "stdout",
     "output_type": "stream",
     "text": [
      "9\n",
      "[  0.   0.   0.   0.   0.   0.   0.   0.   0.   0.   0.   0.   0.   0.\n",
      "   0.   0.   0.   0.   0.   0.   0.   0.   0.   0.   0.   0.   0.   0.\n",
      "   0.   0.   0.   0.   0.   0.   0.   0.   0.   0.   0.   0.   0.   0.\n",
      "   0.   0.   0.   0.   0.   0.   0.   0.   0.   0.   0.   0.   0.   0.\n",
      "   0.   0.   0.   0.   0.   0.   0.   0.   0.   0.   0.   0.   0.   0.\n",
      "   0.   0.   0.   0.   0.   0.   0.   0.   0.   0.   0.   0.   0.   0.\n",
      "   0.   0.   0.   0.   0.   0.   0.   0.   0.   0.   0.   0.   0.   0.\n",
      "   0.   0.   0.   0.   0.   0.   0.   0.   0.   0.   0.   0.   0.   0.\n",
      "   0.   0.   0.   0.   0.   0.   0.   0.   0.   0.   0.   0.   0.   0.\n",
      "   0.   0.   0.   0.   0.   0.   0.   0.   0.   0.   0.   0.   0.   0.\n",
      "   0.   0.   0.   0.   0.   0.   0.   0.   0.   0.   0.   0.   0.   0.\n",
      "   0.   0.   0.   0.   0.   0.   0.   0.   0.   0.   0.   0.   0.   0.\n",
      "   0.   0.   0.   0.   0.   0.   0.   0.   0.   0.   0.   0.   0.   0.\n",
      "  25.  78. 155. 255. 255. 254. 227.  25.   0.   0.   0.   0.   0.   0.\n",
      "   0.   0.   0.   0.   0.   0.   0.   0.   0.   0.   0.   0.  26. 129.\n",
      " 228. 253. 247. 177. 177. 186. 253. 122.   0.   0.   0.   0.   0.   0.\n",
      "   0.   0.   0.   0.   0.   0.   0.   0.   0.   0.   1.  27. 208. 253.\n",
      " 250. 162.  36.   0.   0.  30. 253. 197.   2.   0.   0.   0.   0.   0.\n",
      "   0.   0.   0.   0.   0.   0.   0.   0.   0.   0.  11. 253. 253. 225.\n",
      "  37.   0.   0.   0.  59. 206. 253. 253.   5.   0.   0.   0.   0.   0.\n",
      "   0.   0.   0.   0.   0.   0.   0.   0.   0.   0.  93. 253. 253.  95.\n",
      "   0.   0.   0.  20. 194. 253. 253. 142.   2.   0.   0.   0.   0.   0.\n",
      "   0.   0.   0.   0.   0.   0.   0.   0.   0.   0. 216. 253.  79.   3.\n",
      "   0.   0.  20. 197. 253. 252. 141.   5.   0.   0.   0.   0.   0.   0.\n",
      "   0.   0.   0.   0.   0.   0.   0.   0.   0.   0. 227. 253.  97.  49.\n",
      " 119. 157. 248. 253. 235. 136.   0.   0.   0.   0.   0.   0.   0.   0.\n",
      "   0.   0.   0.   0.   0.   0.   0.   0.   0.   0. 190. 253. 253. 253.\n",
      " 253. 253. 253. 253. 120.   0.   0.   0.   0.   0.   0.   0.   0.   0.\n",
      "   0.   0.   0.   0.   0.   0.   0.   0.   0.   0.  15. 196. 237. 192.\n",
      " 253. 253. 253. 145.   4.   0.   0.   0.   0.   0.   0.   0.   0.   0.\n",
      "   0.   0.   0.   0.   0.   0.   0.   0.   0.   0.   0.   0.   0. 110.\n",
      " 253. 253. 216.  31.   0.   0.   0.   0.   0.   0.   0.   0.   0.   0.\n",
      "   0.   0.   0.   0.   0.   0.   0.   0.   0.   0.   0.   0.  32. 240.\n",
      " 253. 253.  38.   0.   0.   0.   0.   0.   0.   0.   0.   0.   0.   0.\n",
      "   0.   0.   0.   0.   0.   0.   0.   0.   0.   0.   0.  26. 218. 253.\n",
      " 249. 108.   1.   0.   0.   0.   0.   0.   0.   0.   0.   0.   0.   0.\n",
      "   0.   0.   0.   0.   0.   0.   0.   0.   0.   0.   3. 143. 253. 253.\n",
      " 199.   0.   0.   0.   0.   0.   0.   0.   0.   0.   0.   0.   0.   0.\n",
      "   0.   0.   0.   0.   0.   0.   0.   0.   0.   0.  53. 253. 253. 205.\n",
      "  77.   0.   0.   0.   0.   0.   0.   0.   0.   0.   0.   0.   0.   0.\n",
      "   0.   0.   0.   0.   0.   0.   0.   0.   0.  44. 237. 253. 253. 118.\n",
      "   0.   0.   0.   0.   0.   0.   0.   0.   0.   0.   0.   0.   0.   0.\n",
      "   0.   0.   0.   0.   0.   0.   0.   0.   0. 110. 253. 253. 166.   7.\n",
      "   0.   0.   0.   0.   0.   0.   0.   0.   0.   0.   0.   0.   0.   0.\n",
      "   0.   0.   0.   0.   0.   0.   0.   0.  18. 215. 253. 253.  59.   0.\n",
      "   0.   0.   0.   0.   0.   0.   0.   0.   0.   0.   0.   0.   0.   0.\n",
      "   0.   0.   0.   0.   0.   0.   0.   0. 150. 253. 253. 226.  27.   0.\n",
      "   0.   0.   0.   0.   0.   0.   0.   0.   0.   0.   0.   0.   0.   0.\n",
      "   0.   0.   0.   0.   0.   0.   0.   4. 223. 253. 246.  61.   0.   0.\n",
      "   0.   0.   0.   0.   0.   0.   0.   0.   0.   0.   0.   0.   0.   0.\n",
      "   0.   0.   0.   0.   0.   0.   0.   4. 210. 253. 150.   0.   0.   0.\n",
      "   0.   0.   0.   0.   0.   0.   0.   0.   0.   0.   0.   0.   0.   0.\n",
      "   0.   0.   0.   0.   0.   0.   0.   0.   0.   0.   0.   0.   0.   0.\n",
      "   0.   0.   0.   0.   0.   0.   0.   0.   0.   0.   0.   0.   0.   0.\n",
      "   0.   0.   0.   0.   0.   0.   0.   0.   0.   0.   0.   0.   0.   0.\n",
      "   0.   0.   0.   0.   0.   0.   0.   0.   0.   0.   0.   0.   0.   0.]\n",
      "['9' '9' '6' '2' '8' '9' '0' '0' '3' '2']\n"
     ]
    }
   ],
   "source": [
    "from sklearn.model_selection import StratifiedShuffleSplit\n",
    "split = StratifiedShuffleSplit(n_splits=1, test_size=0.1, random_state=42)\n",
    "train_idx, test_idx = next(split.split(X,y))\n",
    "X_train, X_test, y_train, y_test = X[train_idx], X[test_idx], y[train_idx], y[test_idx]\n",
    "\n",
    "print(y_train[0])\n",
    "print(X_train[0])\n",
    "print(y_train[:10])"
   ]
  },
  {
   "cell_type": "markdown",
   "metadata": {},
   "source": [
    "Scale the data to make it more amenable to ML algorithims"
   ]
  },
  {
   "cell_type": "code",
   "execution_count": 4,
   "metadata": {},
   "outputs": [],
   "source": [
    "from sklearn.preprocessing import StandardScaler\n",
    "scaler = StandardScaler()\n",
    "X_train_scaled = scaler.fit_transform(X_train)\n",
    "X_test_scaled = scaler.transform(X_test)"
   ]
  },
  {
   "cell_type": "markdown",
   "metadata": {},
   "source": [
    "Let's look at a few images -- how clear is it that these numbers are what they're supposed to be? As it turns out, quite clear."
   ]
  },
  {
   "cell_type": "code",
   "execution_count": 5,
   "metadata": {},
   "outputs": [],
   "source": [
    "import matplotlib as mpl\n",
    "import matplotlib.pyplot as plt\n",
    "def plot_num(i, data='train'):\n",
    "  if data == 'train':  some_digit = X_train[i]\n",
    "  else:                some_digit = X_test[i]\n",
    "  some_digit_image = some_digit.reshape(28, 28)\n",
    "  plt.imshow(some_digit_image, cmap=mpl.cm.binary)\n",
    "  plt.axis(\"off\")\n",
    "\n",
    "  if data == 'train':  print('Actual number:', y_train[i])\n",
    "  else:                print('Actual number:', y_test[i])\n",
    "\n",
    "  plt.show()"
   ]
  },
  {
   "cell_type": "code",
   "execution_count": 6,
   "metadata": {},
   "outputs": [
    {
     "name": "stdout",
     "output_type": "stream",
     "text": [
      "Actual number: 9\n"
     ]
    },
    {
     "data": {
      "image/png": "[encoded data removed]",
      "text/plain": [
       "<Figure size 432x288 with 1 Axes>"
      ]
     },
     "metadata": {
      "needs_background": "light"
     },
     "output_type": "display_data"
    },
    {
     "name": "stdout",
     "output_type": "stream",
     "text": [
      "Actual number: 9\n"
     ]
    },
    {
     "data": {
      "image/png": "[encoded data removed]",
      "text/plain": [
       "<Figure size 432x288 with 1 Axes>"
      ]
     },
     "metadata": {
      "needs_background": "light"
     },
     "output_type": "display_data"
    },
    {
     "name": "stdout",
     "output_type": "stream",
     "text": [
      "Actual number: 6\n"
     ]
    },
    {
     "data": {
      "image/png": "[encoded data removed]",
      "text/plain": [
       "<Figure size 432x288 with 1 Axes>"
      ]
     },
     "metadata": {
      "needs_background": "light"
     },
     "output_type": "display_data"
    },
    {
     "name": "stdout",
     "output_type": "stream",
     "text": [
      "Actual number: 2\n"
     ]
    },
    {
     "data": {
      "image/png": "[encoded data removed]",
      "text/plain": [
       "<Figure size 432x288 with 1 Axes>"
      ]
     },
     "metadata": {
      "needs_background": "light"
     },
     "output_type": "display_data"
    },
    {
     "name": "stdout",
     "output_type": "stream",
     "text": [
      "Actual number: 8\n"
     ]
    },
    {
     "data": {
      "image/png": "[encoded data removed]",
      "text/plain": [
       "<Figure size 432x288 with 1 Axes>"
      ]
     },
     "metadata": {
      "needs_background": "light"
     },
     "output_type": "display_data"
    }
   ],
   "source": [
    "for i in range(5):\n",
    "  plot_num(i)"
   ]
  },
  {
   "cell_type": "code",
   "execution_count": 6,
   "metadata": {},
   "outputs": [],
   "source": [
    "def print_times(t2, t1):\n",
    "    print('This took %.2f seconds' %(t2-t1))\n",
    "    print('This took %.2f minutes' %((t2-t1)/60))\n",
    "    print('This took %.2f hours' %((t2-t1)/3600))"
   ]
  },
  {
   "cell_type": "code",
   "execution_count": 7,
   "metadata": {},
   "outputs": [],
   "source": [
    "from sklearn.multiclass import OneVsOneClassifier\n",
    "from sklearn.model_selection import cross_val_score\n",
    "def time_model_whole_dataset(clf):\n",
    "    t1 = time.time()\n",
    "    ovo_clf = OneVsOneClassifier(clf)\n",
    "    ovo_clf.fit(X_train_scaled, y_train)\n",
    "    t2 = time.time()\n",
    "    print_times(t2,t1)"
   ]
  },
  {
   "cell_type": "markdown",
   "metadata": {},
   "source": [
    "Now, we are going to get a baseline time test for each type of model we will be using. It's important to get a sense of the time so that we can train and cross-validate an appropriate number of times (and not, say, make the code run for 100 hours on one model)."
   ]
  },
  {
   "cell_type": "code",
   "execution_count": 9,
   "metadata": {},
   "outputs": [
    {
     "name": "stdout",
     "output_type": "stream",
     "text": [
      "This took 24.12 seconds\n",
      "This took 0.40 minutes\n",
      "This took 0.01 hours\n"
     ]
    }
   ],
   "source": [
    "# test the speed of a SGD classifier over the whole dataset\n",
    "from sklearn.linear_model import SGDClassifier\n",
    "clf = SGDClassifier(random_state=623, max_iter=1e3, tol=1e-3)\n",
    "time_model_whole_dataset(clf) # should take about 40 seconds"
   ]
  },
  {
   "cell_type": "code",
   "execution_count": 8,
   "metadata": {},
   "outputs": [
    {
     "name": "stdout",
     "output_type": "stream",
     "text": [
      "This took 327.21 seconds\n",
      "This took 5.45 minutes\n",
      "This took 0.09 hours\n"
     ]
    }
   ],
   "source": [
    "# test the speed of a polynomial SVC classifier over the whole dataset\n",
    "from sklearn.svm import SVC\n",
    "clf = SVC(kernel='poly', C=10.0, degree=5, coef0=1, gamma='scale')\n",
    "time_model_whole_dataset(clf) # should take about 10 minutes"
   ]
  },
  {
   "cell_type": "code",
   "execution_count": 11,
   "metadata": {},
   "outputs": [
    {
     "name": "stdout",
     "output_type": "stream",
     "text": [
      "This took 448.80 seconds\n",
      "This took 7.48 minutes\n",
      "This took 0.12 hours\n"
     ]
    }
   ],
   "source": [
    "# test the speed of an rbf SVC classifier over the whole dataset\n",
    "from sklearn.svm import SVC\n",
    "clf = SVC(kernel='rbf', C=10.0, gamma=0.001)\n",
    "time_model_whole_dataset(clf) # should take about 10 minutes"
   ]
  },
  {
   "cell_type": "markdown",
   "metadata": {},
   "source": [
    "# 3.) Training the three classifiers\n",
    "----------------------------\n",
    "\n",
    "Now we wove onto the main section of this project. Each classifier will have four cells dedicated to it: two for coarse hyperparameter tuning, two for fine hyperparameter tuning. In each set of two cells, one will train and cross-validate the data across the hyperparameter-space, while the other is mainly for plotting to show the accuracy across different values of hyperparameters. The training/cross-validating cells are the ones that take a while. In each, I provide a rough time estimate; your results (with a different computer) may vary.\n",
    "\n",
    "First, we begin with the SGDClassifier. The hyperparameter to tune here is $\\alpha$."
   ]
  },
  {
   "cell_type": "code",
   "execution_count": 12,
   "metadata": {},
   "outputs": [
    {
     "name": "stdout",
     "output_type": "stream",
     "text": [
      "1 / 6\n",
      "2 / 6\n",
      "3 / 6\n",
      "4 / 6\n",
      "5 / 6\n",
      "6 / 6\n",
      "This took 161.28 seconds\n",
      "This took 2.69 minutes\n",
      "This took 0.04 hours\n"
     ]
    }
   ],
   "source": [
    "# training a bunch of SGDClassifiers, surveying hyperparameter space\n",
    "# vary alpha, train on whole dataset\n",
    "# expect each one to take ~ 2mins per train\n",
    "# check the alphas broadly at first, narrower later\n",
    "from sklearn.model_selection import cross_val_score\n",
    "SGD_alphas_coarse = 10**np.arange(-3.0, 3, 1) # 2mins x 6 models = 12 mins total\n",
    "SGD_scores_coarse = np.zeros(len(SGD_alphas_coarse))\n",
    "\n",
    "t1 = time.time()\n",
    "for i in range(len(SGD_alphas_coarse)):\n",
    "    print(i+1, '/', len(SGD_alphas_coarse))\n",
    "    alpha = SGD_alphas_coarse[i]\n",
    "    clf = SGDClassifier(random_state=623, max_iter=1000, tol=1e-3, alpha=alpha)\n",
    "    ovo_clf = OneVsOneClassifier(clf)\n",
    "    scores = cross_val_score(ovo_clf, X_train_scaled, y_train, scoring='accuracy', cv=3)\n",
    "    SGD_scores_coarse[i] = np.average(scores)\n",
    "t2 = time.time()\n",
    "print_times(t2,t1)\n",
    "# actually like 4 minutes"
   ]
  },
  {
   "cell_type": "code",
   "execution_count": 13,
   "metadata": {},
   "outputs": [
    {
     "name": "stdout",
     "output_type": "stream",
     "text": [
      "Best alpha: 0.010\n",
      "Best accuracy: 0.9373\n"
     ]
    },
    {
     "data": {
      "image/png": "[encoded data removed]",
      "text/plain": [
       "<Figure size 432x288 with 1 Axes>"
      ]
     },
     "metadata": {
      "needs_background": "light"
     },
     "output_type": "display_data"
    }
   ],
   "source": [
    "best_SGD_score_coarse = SGD_scores_coarse.max()\n",
    "best_SGD_alpha_coarse = SGD_alphas_coarse[SGD_scores_coarse==best_SGD_score_coarse][0]\n",
    "print('Best alpha: %.3f' %best_SGD_alpha_coarse)\n",
    "print('Best accuracy: %.4f' %best_SGD_score_coarse)\n",
    "\n",
    "plt.plot(SGD_alphas_coarse, 1-SGD_scores_coarse)\n",
    "plt.xlabel('Alphas')\n",
    "plt.ylabel('Error')\n",
    "plt.title('SGD, Coarse Alpha', fontsize=16)\n",
    "plt.xscale('log')\n",
    "plt.yscale('log')\n",
    "plt.show()"
   ]
  },
  {
   "cell_type": "code",
   "execution_count": 10,
   "metadata": {},
   "outputs": [
    {
     "name": "stdout",
     "output_type": "stream",
     "text": [
      "1 / 20\n",
      "2 / 20\n",
      "3 / 20\n",
      "4 / 20\n",
      "5 / 20\n",
      "6 / 20\n",
      "7 / 20\n",
      "8 / 20\n",
      "9 / 20\n",
      "10 / 20\n",
      "11 / 20\n",
      "12 / 20\n",
      "13 / 20\n",
      "14 / 20\n",
      "15 / 20\n",
      "16 / 20\n",
      "17 / 20\n",
      "18 / 20\n",
      "19 / 20\n",
      "20 / 20\n",
      "This took 486.72 seconds\n",
      "This took 8.11 minutes\n",
      "This took 0.14 hours\n"
     ]
    }
   ],
   "source": [
    "# refine the alphas for SGDClassifiers more\n",
    "SGD_alphas_fine = 10**np.arange(-2.5, -0.5, 0.1) # 2mins x 20 models = 40 mins total\n",
    "SGD_scores_fine = np.zeros(len(SGD_alphas_fine))\n",
    "\n",
    "t1 = time.time()\n",
    "for i in range(len(SGD_alphas_fine)):\n",
    "    print(i+1, '/', len(SGD_alphas_fine))\n",
    "    alpha = SGD_alphas_fine[i]\n",
    "    clf = SGDClassifier(random_state=623, max_iter=1000, tol=1e-3, alpha=alpha)\n",
    "    ovo_clf = OneVsOneClassifier(clf)\n",
    "    scores = cross_val_score(ovo_clf, X_train_scaled, y_train, scoring='accuracy', cv=3)\n",
    "    SGD_scores_fine[i] = np.average(scores)\n",
    "t2 = time.time()\n",
    "print_times(t2,t1)\n",
    "# actually like 10 minutes"
   ]
  },
  {
   "cell_type": "code",
   "execution_count": 11,
   "metadata": {},
   "outputs": [
    {
     "name": "stdout",
     "output_type": "stream",
     "text": [
      "Best alpha: 0.040\n",
      "Best accuracy: 0.9399\n"
     ]
    },
    {
     "data": {
      "image/png": "[encoded data removed]",
      "text/plain": [
       "<Figure size 432x288 with 1 Axes>"
      ]
     },
     "metadata": {
      "needs_background": "light"
     },
     "output_type": "display_data"
    }
   ],
   "source": [
    "# plot the fine-search alphas / scores\n",
    "best_SGD_score_fine = SGD_scores_fine.max()\n",
    "best_SGD_alpha_fine = SGD_alphas_fine[SGD_scores_fine==best_SGD_score_fine][0]\n",
    "print('Best alpha: %.3f' %best_SGD_alpha_fine)\n",
    "print('Best accuracy: %.4f' %best_SGD_score_fine)\n",
    "\n",
    "best_SGD_model = OneVsOneClassifier(SGDClassifier(\n",
    "                        max_iter=1000, tol=1e-3, alpha=best_SGD_alpha_fine))\n",
    "\n",
    "plt.plot(SGD_alphas_fine, 1-SGD_scores_fine)\n",
    "plt.xlabel('Alphas')\n",
    "plt.ylabel('Error')\n",
    "plt.title('SGD, Fine Alpha', fontsize=16)\n",
    "plt.xscale('log')\n",
    "plt.yscale('log')\n",
    "plt.show()"
   ]
  },
  {
   "cell_type": "markdown",
   "metadata": {},
   "source": [
    "Having now found the best SGD Classifier, we move onto the SVM models, starting with a polynomial kernel. The hyperparameters to tune here are $C$ and $d$. For this model, performing cross-validation on the whole training set would take far too long on each model. Instead, I choose my own data subset, effectively implementing my own bagging routine. For some reason, the sklearn BaggingClassifier *really* did not like doing cross-validation."
   ]
  },
  {
   "cell_type": "code",
   "execution_count": 16,
   "metadata": {},
   "outputs": [
    {
     "name": "stdout",
     "output_type": "stream",
     "text": [
      "1 / 6\n",
      "\t 1 / 4\n",
      "\t 2 / 4\n",
      "\t 3 / 4\n",
      "\t 4 / 4\n",
      "2 / 6\n",
      "\t 1 / 4\n",
      "\t 2 / 4\n",
      "\t 3 / 4\n",
      "\t 4 / 4\n",
      "3 / 6\n",
      "\t 1 / 4\n",
      "\t 2 / 4\n",
      "\t 3 / 4\n",
      "\t 4 / 4\n",
      "4 / 6\n",
      "\t 1 / 4\n",
      "\t 2 / 4\n",
      "\t 3 / 4\n",
      "\t 4 / 4\n",
      "5 / 6\n",
      "\t 1 / 4\n",
      "\t 2 / 4\n",
      "\t 3 / 4\n",
      "\t 4 / 4\n",
      "6 / 6\n",
      "\t 1 / 4\n",
      "\t 2 / 4\n",
      "\t 3 / 4\n",
      "\t 4 / 4\n",
      "This took 1048.66 seconds\n",
      "This took 17.48 minutes\n",
      "This took 0.29 hours\n"
     ]
    }
   ],
   "source": [
    "# training a bunch of poly-kernel SVC models, surveying hyperparameter space\n",
    "# vary C and degree, train on a subset of the dataset\n",
    "# expect each one to take ~ 30sec per train\n",
    "# check C and degree broadly at first, then select a degree and hone in on C\n",
    "poly_Cs_coarse = 10.0**np.arange(-3, 3, 1)\n",
    "poly_degrees_coarse = range(3, 7)\n",
    "# 2min x 6 x 4 models = 48min to train the whole thing\n",
    "poly_scores_coarse = np.zeros(shape=(len(poly_Cs_coarse), len(poly_degrees_coarse)))\n",
    "\n",
    "size = int(0.05*len(X_train))\n",
    "np.random.seed(623)\n",
    "\n",
    "t1 = time.time()\n",
    "for i in range(len(poly_Cs_coarse)):\n",
    "    print(i+1, '/', len(poly_Cs_coarse))\n",
    "    C = poly_Cs_coarse[i]\n",
    "    for j in range(len(poly_degrees_coarse)):\n",
    "        print('\\t', j+1, '/', len(poly_degrees_coarse))\n",
    "        degree = poly_degrees_coarse[j]\n",
    "        clf = SVC(kernel='poly', coef0=1, C=C, degree=degree, gamma='scale')\n",
    "        ovo_clf = OneVsOneClassifier(clf)\n",
    "        \n",
    "        # I'll have to draw my own random subset, since for some reason BaggingClassifier\n",
    "        #     refused to work with cross_val_score\n",
    "        idxs = np.random.randint(0, len(X_train), size=size)\n",
    "        Xhere = X_train_scaled[idxs]\n",
    "        yhere = y_train[idxs]\n",
    "        \n",
    "        scores = cross_val_score(ovo_clf, Xhere, yhere, scoring='accuracy', cv=3)\n",
    "        poly_scores_coarse[i,j] = np.average(scores)\n",
    "t2 = time.time()\n",
    "print_times(t2,t1)\n",
    "# actually like 20 minutes"
   ]
  },
  {
   "cell_type": "code",
   "execution_count": 17,
   "metadata": {},
   "outputs": [
    {
     "data": {
      "image/png": "[encoded data removed]",
      "text/plain": [
       "<Figure size 432x288 with 1 Axes>"
      ]
     },
     "metadata": {
      "needs_background": "light"
     },
     "output_type": "display_data"
    }
   ],
   "source": [
    "for i in range(len(poly_degrees_coarse)):\n",
    "    degree = poly_degrees_coarse[i]\n",
    "    scores = poly_scores_coarse[:,i]\n",
    "    plt.plot(poly_Cs_coarse, 1-scores, label = 'Degree = ' + str(degree))\n",
    "\n",
    "plt.xscale('log')\n",
    "plt.yscale('log')\n",
    "plt.xlabel('C', fontsize=14)\n",
    "plt.ylabel('Error')\n",
    "plt.title('Poly kernel, Coarse (C,d)')\n",
    "plt.legend()\n",
    "plt.show()"
   ]
  },
  {
   "cell_type": "code",
   "execution_count": 12,
   "metadata": {},
   "outputs": [
    {
     "name": "stdout",
     "output_type": "stream",
     "text": [
      "1 / 20\n",
      "2 / 20\n",
      "3 / 20\n",
      "4 / 20\n",
      "5 / 20\n",
      "6 / 20\n",
      "7 / 20\n",
      "8 / 20\n",
      "9 / 20\n",
      "10 / 20\n",
      "11 / 20\n",
      "12 / 20\n",
      "13 / 20\n",
      "14 / 20\n",
      "15 / 20\n",
      "16 / 20\n",
      "17 / 20\n",
      "18 / 20\n",
      "19 / 20\n",
      "20 / 20\n",
      "This took 567.55 seconds\n",
      "This took 9.46 minutes\n",
      "This took 0.16 hours\n"
     ]
    }
   ],
   "source": [
    "# pick a polynomial degree and fine-search for a C here\n",
    "# expect each one to take roughly 30 sec to train\n",
    "# degree 5 has lowest cv error at all Cs\n",
    "# 2min x 20 models = 40min to train the whole thing\n",
    "poly_degree_fine = 5\n",
    "poly_Cs_fine = 10**np.arange(0, 2, 0.1)\n",
    "poly_scores_fine = np.zeros(len(poly_Cs_fine))\n",
    "\n",
    "size = int(0.05*len(X_train))\n",
    "np.random.seed(623)\n",
    "t1 = time.time()\n",
    "for i in range(len(poly_Cs_fine)):\n",
    "    print(i+1, '/', len(poly_Cs_fine))\n",
    "    C = poly_Cs_fine[i]\n",
    "    clf = SVC(kernel='poly', coef0=1, C=C, degree=poly_degree_fine, gamma='scale')\n",
    "    ovo_clf = OneVsOneClassifier(clf)\n",
    "    \n",
    "    # I'll have to draw my own random subset, since for some reason BaggingClassifier\n",
    "    #     refused to work with cross_val_score\n",
    "    idxs = np.random.randint(0, len(X_train), size=size)\n",
    "    Xhere = X_train_scaled[idxs]\n",
    "    yhere = y_train[idxs]\n",
    "        \n",
    "    scores = cross_val_score(ovo_clf, Xhere, yhere, scoring='accuracy', cv=3)\n",
    "    poly_scores_fine[i] = np.average(scores)\n",
    "t2 = time.time()\n",
    "print_times(t2,t1)\n",
    "# actually like 10 minutes"
   ]
  },
  {
   "cell_type": "code",
   "execution_count": 13,
   "metadata": {},
   "outputs": [
    {
     "name": "stdout",
     "output_type": "stream",
     "text": [
      "Best poly C: 15.849\n",
      "Best accuracy: 0.9362\n"
     ]
    },
    {
     "data": {
      "image/png": "[encoded data removed]",
      "text/plain": [
       "<Figure size 432x288 with 1 Axes>"
      ]
     },
     "metadata": {
      "needs_background": "light"
     },
     "output_type": "display_data"
    }
   ],
   "source": [
    "# plot the fine-search poly scores here\n",
    "best_poly_score_fine = poly_scores_fine.max()\n",
    "best_poly_C_fine = poly_Cs_fine[poly_scores_fine==best_poly_score_fine][0]\n",
    "print('Best poly C: %.3f' %best_poly_C_fine)\n",
    "print('Best accuracy: %.4f' %best_poly_score_fine)\n",
    "\n",
    "best_poly_model = OneVsOneClassifier(SVC(kernel='poly', coef0=1, gamma='scale',\n",
    "                                         C=best_poly_C_fine, degree=poly_degree_fine))\n",
    "\n",
    "plt.plot(poly_Cs_fine, 1-poly_scores_fine)\n",
    "plt.xlabel('C', fontsize=16)\n",
    "plt.ylabel('Error')\n",
    "plt.title('Poly kernel, Fine C', fontsize=16)\n",
    "plt.xscale('log')\n",
    "plt.yscale('log')\n",
    "plt.show()"
   ]
  },
  {
   "cell_type": "markdown",
   "metadata": {},
   "source": [
    "Finally, we move onto the last classifier: SVM with rbf kernel. The hyperparameters to tune here are $C$ and $\\gamma$. Subsets of the data are drawn to ensure the code runs in a timely manner. Again, I implement my own bagging routine, since sklearn's BaggingClassifier refuses to work in a timely manner with cross_val_score."
   ]
  },
  {
   "cell_type": "code",
   "execution_count": 20,
   "metadata": {},
   "outputs": [
    {
     "name": "stdout",
     "output_type": "stream",
     "text": [
      "1 / 6\n",
      "\t 1 / 3\n",
      "\t 2 / 3\n",
      "\t 3 / 3\n",
      "2 / 6\n",
      "\t 1 / 3\n",
      "\t 2 / 3\n",
      "\t 3 / 3\n",
      "3 / 6\n",
      "\t 1 / 3\n",
      "\t 2 / 3\n",
      "\t 3 / 3\n",
      "4 / 6\n",
      "\t 1 / 3\n",
      "\t 2 / 3\n",
      "\t 3 / 3\n",
      "5 / 6\n",
      "\t 1 / 3\n",
      "\t 2 / 3\n",
      "\t 3 / 3\n",
      "6 / 6\n",
      "\t 1 / 3\n",
      "\t 2 / 3\n",
      "\t 3 / 3\n",
      "This took 787.25 seconds\n",
      "This took 13.12 minutes\n",
      "This took 0.22 hours\n"
     ]
    }
   ],
   "source": [
    "# training a bunch of rbf-kernel SVC models, surveying hyperparameter space\n",
    "# vary C and gamma, train on a subset of the dataset\n",
    "# expect each one to take ~ 2min per train\n",
    "# check C and gamma broadly at first, then select a smaller space and look more closely\n",
    "rbf_Cs_coarse = 10.0**np.arange(-3, 3, 1)\n",
    "rbf_gammas_coarse = 10.0**np.arange(-4, -1, 1)\n",
    "# 2min x 3 x 6 models = 36mins to train the whole thing\n",
    "rbf_scores_coarse = np.zeros(shape=(len(rbf_Cs_coarse), len(rbf_gammas_coarse)))\n",
    "\n",
    "size = int(0.04*len(X_train))\n",
    "np.random.seed(623)\n",
    "\n",
    "t1 = time.time()\n",
    "for i in range(len(rbf_Cs_coarse)):\n",
    "    print(i+1, '/', len(rbf_Cs_coarse))\n",
    "    C = rbf_Cs_coarse[i]\n",
    "    for j in range(len(rbf_gammas_coarse)):\n",
    "        print('\\t', j+1, '/', len(rbf_gammas_coarse))\n",
    "        gamma = rbf_gammas_coarse[j]\n",
    "        clf = SVC(kernel='rbf', C=C, gamma=gamma)\n",
    "        ovo_clf = OneVsOneClassifier(clf)\n",
    "        \n",
    "        # I'll have to draw my own random subset, since for some reason BaggingClassifier\n",
    "        #     refused to work with cross_val_score\n",
    "        idxs = np.random.randint(0, len(X_train), size=size)\n",
    "        Xhere = X_train_scaled[idxs]\n",
    "        yhere = y_train[idxs]\n",
    "        \n",
    "        scores = cross_val_score(ovo_clf, Xhere, yhere, scoring='accuracy', cv=3)\n",
    "        rbf_scores_coarse[i,j] = np.average(scores)\n",
    "t2 = time.time()\n",
    "print_times(t2,t1)\n",
    "# actually like 18 mins"
   ]
  },
  {
   "cell_type": "code",
   "execution_count": 21,
   "metadata": {},
   "outputs": [
    {
     "data": {
      "image/png": "[encoded data removed]",
      "text/plain": [
       "<Figure size 432x288 with 1 Axes>"
      ]
     },
     "metadata": {
      "needs_background": "light"
     },
     "output_type": "display_data"
    }
   ],
   "source": [
    "for i in range(len(rbf_gammas_coarse)):\n",
    "    gamma = rbf_gammas_coarse[i]\n",
    "    scores = rbf_scores_coarse[:,i]\n",
    "    plt.plot(rbf_Cs_coarse, 1-scores, label = 'Gamma = ' + str(gamma))\n",
    "\n",
    "plt.xscale('log')\n",
    "plt.yscale('log')\n",
    "plt.xlabel('C', fontsize=14)\n",
    "plt.ylabel('Error')\n",
    "plt.title('RBF kernel, Coarse (C,gamma)')\n",
    "plt.legend()\n",
    "plt.show()"
   ]
  },
  {
   "cell_type": "code",
   "execution_count": 14,
   "metadata": {},
   "outputs": [
    {
     "name": "stdout",
     "output_type": "stream",
     "text": [
      "1 / 5\n",
      "\t 1 / 5\n",
      "\t 2 / 5\n",
      "\t 3 / 5\n",
      "\t 4 / 5\n",
      "\t 5 / 5\n",
      "2 / 5\n",
      "\t 1 / 5\n",
      "\t 2 / 5\n",
      "\t 3 / 5\n",
      "\t 4 / 5\n",
      "\t 5 / 5\n",
      "3 / 5\n",
      "\t 1 / 5\n",
      "\t 2 / 5\n",
      "\t 3 / 5\n",
      "\t 4 / 5\n",
      "\t 5 / 5\n",
      "4 / 5\n",
      "\t 1 / 5\n",
      "\t 2 / 5\n",
      "\t 3 / 5\n",
      "\t 4 / 5\n",
      "\t 5 / 5\n",
      "5 / 5\n",
      "\t 1 / 5\n",
      "\t 2 / 5\n",
      "\t 3 / 5\n",
      "\t 4 / 5\n",
      "\t 5 / 5\n",
      "This took 490.54 seconds\n",
      "This took 8.18 minutes\n",
      "This took 0.14 hours\n"
     ]
    }
   ],
   "source": [
    "# more finely study C and gamma, based on the results of the coarse study\n",
    "# vary C and gamma, train on a subset of the dataset\n",
    "# expect each one to take ~ 2min per train\n",
    "rbf_Cs_fine = 10.0**np.arange(0.5, 1.5, 0.2)\n",
    "rbf_gammas_fine = 10.0**np.arange(-3.5, -2.5, 0.2)\n",
    "#rbf_gamma = 0.001\n",
    "# 2min x 5 x 5 models = 50mins to train the whole thing\n",
    "rbf_scores_fine = np.zeros(shape=(len(rbf_Cs_fine), len(rbf_gammas_fine)))\n",
    "\n",
    "size = int(0.04*len(X_train))\n",
    "np.random.seed(623)\n",
    "\n",
    "t1 = time.time()\n",
    "for i in range(len(rbf_Cs_fine)):\n",
    "    print(i+1, '/', len(rbf_Cs_fine))\n",
    "    C = rbf_Cs_fine[i]\n",
    "    for j in range(len(rbf_gammas_fine)):\n",
    "        print('\\t', j+1, '/', len(rbf_gammas_fine))\n",
    "        gamma = rbf_gammas_fine[j]\n",
    "        clf = SVC(kernel='rbf', C=C, gamma=gamma)\n",
    "        ovo_clf = OneVsOneClassifier(clf)\n",
    "        \n",
    "        # I'll have to draw my own random subset, since for some reason BaggingClassifier\n",
    "        #     refused to work with cross_val_score\n",
    "        idxs = np.random.randint(0, len(X_train), size=size)\n",
    "        Xhere = X_train_scaled[idxs]\n",
    "        yhere = y_train[idxs]\n",
    "        \n",
    "        scores = cross_val_score(ovo_clf, Xhere, yhere, scoring='accuracy', cv=3)\n",
    "        rbf_scores_fine[i,j] = np.average(scores)\n",
    "t2 = time.time()\n",
    "print_times(t2,t1)\n",
    "# actually like 10 mins"
   ]
  },
  {
   "cell_type": "code",
   "execution_count": 15,
   "metadata": {},
   "outputs": [
    {
     "name": "stdout",
     "output_type": "stream",
     "text": [
      "Best rbf C: 19.953\n",
      "Best rbf gamma: 0.001\n",
      "Best accuracy: 0.9210\n"
     ]
    },
    {
     "data": {
      "image/png": "[encoded data removed]",
      "text/plain": [
       "<Figure size 432x288 with 1 Axes>"
      ]
     },
     "metadata": {
      "needs_background": "light"
     },
     "output_type": "display_data"
    }
   ],
   "source": [
    "best_rbf_score_fine = rbf_scores_fine.max()\n",
    "i1, i2 = np.where(rbf_scores_fine==best_rbf_score_fine)\n",
    "best_rbf_C_fine = rbf_Cs_fine[i1[0]]\n",
    "best_rbf_gamma_fine = rbf_gammas_fine[i2[0]]\n",
    "print('Best rbf C: %.3f' %best_rbf_C_fine)\n",
    "print('Best rbf gamma: %.3f' %best_rbf_gamma_fine)\n",
    "print('Best accuracy: %.4f' %best_rbf_score_fine)\n",
    "\n",
    "best_rbf_model = OneVsOneClassifier(SVC(kernel='rbf', gamma=best_rbf_gamma_fine, C=best_rbf_C_fine))\n",
    "\n",
    "for i in range(len(rbf_gammas_fine)):\n",
    "    gamma = rbf_gammas_fine[i]\n",
    "    scores = rbf_scores_fine[:,i]\n",
    "    plt.plot(rbf_Cs_fine, 1-scores, label = 'Gamma = 10^%.1f' %np.log10(gamma))\n",
    "\n",
    "plt.xscale('log')\n",
    "plt.yscale('log')\n",
    "plt.xlabel('C', fontsize=14)\n",
    "plt.ylabel('Error')\n",
    "plt.title('RBF kernel, Fine (C,gamma)', fontsize=16)\n",
    "plt.legend()\n",
    "plt.show()"
   ]
  },
  {
   "cell_type": "markdown",
   "metadata": {},
   "source": [
    "# 4.) Training the voting classifier\n",
    "------------------------------------\n",
    "\n",
    "Having now trained all the classifiers, we move onto the voting classifier. Since each of the three voting members are well-trained classifiers, we implement \"soft\" voting rather than \"hard\" voting. In this section, we simply train the voting classifier."
   ]
  },
  {
   "cell_type": "code",
   "execution_count": 16,
   "metadata": {},
   "outputs": [
    {
     "name": "stdout",
     "output_type": "stream",
     "text": [
      "This took 851.30 seconds\n",
      "This took 14.19 minutes\n",
      "This took 0.24 hours\n"
     ]
    }
   ],
   "source": [
    "# form a voting classifier from all the best classifiers so far\n",
    "# this whole cell should take like 15 minutes to run\n",
    "from sklearn.ensemble import VotingClassifier\n",
    "voting_clf = VotingClassifier(\n",
    "    estimators=[('best sgd', best_SGD_model),\n",
    "                ('best poly', best_poly_model),\n",
    "                ('best rbf', best_rbf_model)], voting='hard')\n",
    "\n",
    "t1 = time.time()\n",
    "voting_clf.fit(X_train_scaled, y_train)\n",
    "t2 = time.time()\n",
    "print_times(t2, t1)"
   ]
  },
  {
   "cell_type": "markdown",
   "metadata": {},
   "source": [
    "# 5.) Analyzing performance\n",
    "-------------------------\n",
    "\n",
    "Having now trained the voting classifier, we use it to predict on the testing set. Fingers crossed, I hope this works! If not, it would take literally days to try and train better classifiers...."
   ]
  },
  {
   "cell_type": "code",
   "execution_count": 18,
   "metadata": {},
   "outputs": [
    {
     "name": "stdout",
     "output_type": "stream",
     "text": [
      "[[684   1   1   0   1   0   2   0   1   0]\n",
      " [  0 782   1   1   1   0   0   0   3   0]\n",
      " [  2   1 682   3   1   0   0   5   4   1]\n",
      " [  1   1   2 688   1   8   0   5   5   3]\n",
      " [  0   0   3   0 665   1   2   3   0   8]\n",
      " [  0   0   0   3   1 613   8   1   3   2]\n",
      " [  2   0   1   0   1   0 684   0   0   0]\n",
      " [  1   3   4   0   5   0   0 706   0  10]\n",
      " [  2   1   6   5   1   5   1   3 655   4]\n",
      " [  1   3   2   5   6   1   0   9   2 667]]\n",
      "Precision: 0.975\n",
      "Recall:    0.975\n",
      "Accuracy:  0.975\n"
     ]
    }
   ],
   "source": [
    "from sklearn.metrics import confusion_matrix, precision_score, recall_score, accuracy_score\n",
    "ypred = voting_clf.predict(X_test_scaled)\n",
    "mat = confusion_matrix(y_test, ypred)\n",
    "print(mat)\n",
    "print('Precision: %.3f' %precision_score(y_test, ypred, average='micro'))\n",
    "print('Recall:    %.3f' %recall_score(y_test, ypred, average='micro'))\n",
    "print('Accuracy:  %.3f' %accuracy_score(y_test, ypred))"
   ]
  },
  {
   "cell_type": "code",
   "execution_count": 19,
   "metadata": {},
   "outputs": [
    {
     "data": {
      "text/plain": [
       "30.701617517886874"
      ]
     },
     "execution_count": 19,
     "metadata": {},
     "output_type": "execute_result"
    }
   ],
   "source": [
    "acc = accuracy_score(y_test, ypred)\n",
    "err = (1-acc)*100\n",
    "MyScore = 35-25*np.log10(err-1)\n",
    "MyScore"
   ]
  },
  {
   "cell_type": "code",
   "execution_count": null,
   "metadata": {},
   "outputs": [],
   "source": []
  },
  {
   "cell_type": "code",
   "execution_count": 17,
   "metadata": {},
   "outputs": [],
   "source": [
    "# pickle the models to avoid having to re-train every time the kernel is restarted\n",
    "import pickle\n",
    "models = [best_SGD_model, best_poly_model, best_rbf_model, voting_clf]\n",
    "names = ['sgd_final', 'poly_final', 'rbf_final', 'voting_final']\n",
    "for model, name in zip(models, names):\n",
    "    pickle.dump(model, open(name, 'wb'))"
   ]
  },
  {
   "cell_type": "code",
   "execution_count": null,
   "metadata": {},
   "outputs": [],
   "source": []
  },
  {
   "cell_type": "code",
   "execution_count": 20,
   "metadata": {},
   "outputs": [],
   "source": [
    "# this cell exists to load in the pickled models\n",
    "import pickle\n",
    "import time\n",
    "import numpy as np\n",
    "import matplotlib as mpl\n",
    "import matplotlib.pyplot as plt\n",
    "from sklearn.linear_model import LogisticRegression\n",
    "from sklearn.linear_model import SGDClassifier\n",
    "from sklearn.svm import SVC\n",
    "from sklearn.multiclass import OneVsOneClassifier\n",
    "from sklearn.model_selection import cross_val_score\n",
    "\n",
    "\n",
    "best_poly_model = pickle.load(open('poly_final', 'rb'))\n",
    "best_SGD_model = pickle.load(open('sgd_final', 'rb'))\n",
    "best_rbf_model = pickle.load(open('rbf_final', 'rb'))"
   ]
  },
  {
   "cell_type": "code",
   "execution_count": null,
   "metadata": {},
   "outputs": [],
   "source": []
  }
 ],
 "metadata": {
  "kernelspec": {
   "display_name": "Python 3",
   "language": "python",
   "name": "python3"
  },
  "language_info": {
   "codemirror_mode": {
    "name": "ipython",
    "version": 3
   },
   "file_extension": ".py",
   "mimetype": "text/x-python",
   "name": "python",
   "nbconvert_exporter": "python",
   "pygments_lexer": "ipython3",
   "version": "3.7.6"
  }
 },
 "nbformat": 4,
 "nbformat_minor": 4
}
